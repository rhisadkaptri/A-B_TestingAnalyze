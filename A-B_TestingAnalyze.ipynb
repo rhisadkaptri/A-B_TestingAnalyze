{
 "cells": [
  {
   "cell_type": "markdown",
   "id": "66a79c48",
   "metadata": {},
   "source": [
    "### Pengaruh Rerata & Harapan Lama Sekolah Terhadap Indeks Pembangunan Manusia (IPM)"
   ]
  },
  {
   "cell_type": "markdown",
   "id": "097e8925",
   "metadata": {},
   "source": [
    "Indeks Pembangunan Manusia (IPM) menjelaskan bagaimana penduduk dapat mengakses hasil pembangunan dalam memperoleh pendapatan, kesehatan, pendidikan, dan sebagainya. IPM merupakan indikator penting untuk mengukur keberhasilan dalam upaya membangun kualitas hidup manusia (masyarakat/penduduk) dan dapat menentukan peringkat atau level pembangunan suatu wilayah/negara. \n",
    "\n",
    "Bagi Indonesia, IPM merupakan data strategis karena selain sebagai ukuran kinerja Pemerintah, IPM juga digunakan sebagai salah satu alokator penentuan Dana Alokasi Umum (DAU).\n",
    "\n",
    "IPM dibentuk oleh 3 dimensi dasar, yaitu:\n",
    "- Umur panjang dan hidup sehat\n",
    "- Pengetahuan\n",
    "- Standar hidup layak\n",
    "\n",
    "Alasan yang dijadikan dasar perubahan metodologi penghitungan IPM, yaitu: \n",
    "\n",
    "1. Beberapa indikator sudah tidak tepat untuk digunakan dalam penghitungan IPM. Angka melek huruf sudah tidak relevan dalam mengukur pendidikan secara utuh karena tidak dapat menggambarkan kualitas pendidikan. Selain itu, karena angka melek huruf di sebagian besar daerah sudah tinggi, sehingga tidak dapat membedakan tingkat pendidikan antardaerah dengan baik.\n",
    "PDB per kapita tidak dapat menggambarkan pendapatan masyarakat pada suatu wilayah.\n",
    "2. Penggunaan rumus rata-rata aritmatik dalam penghitungan IPM menggambarkan bahwa capaian yang rendah di suatu dimensi dapat ditutupi oleh capaian tinggi dari dimensi lain."
   ]
  },
  {
   "cell_type": "markdown",
   "id": "5e302a44",
   "metadata": {},
   "source": [
    "Dengan menggunakan indikator yang lebih tepat dan dapat membedakan dengan baik (diskriminatif).\n",
    "\n",
    "`Salah satu caranya adalah dengan memasukkan rata-rata lama sekolah dan angka harapan lama sekolah, dapat diperoleh gambaran yang lebih relevan dalam pendidikan dan perubahan yang terjadi.`"
   ]
  },
  {
   "cell_type": "markdown",
   "id": "b43dacd3",
   "metadata": {},
   "source": [
    "Disini, saya akan membandingkan Hubungan antara Rerata & Harapan Lama Sekolah terhadap Indeks Pembangunan Manusia (IPM)"
   ]
  },
  {
   "cell_type": "code",
   "execution_count": 1,
   "id": "6f17d9ae",
   "metadata": {},
   "outputs": [],
   "source": [
    "#import library\n",
    "\n",
    "import numpy as np \n",
    "import pandas as pd \n",
    "import matplotlib.pyplot as plt\n",
    "from scipy.stats import chi2_contingency, chi2 "
   ]
  },
  {
   "cell_type": "code",
   "execution_count": 2,
   "id": "871b8c16",
   "metadata": {},
   "outputs": [
    {
     "data": {
      "text/html": [
       "<div>\n",
       "<style scoped>\n",
       "    .dataframe tbody tr th:only-of-type {\n",
       "        vertical-align: middle;\n",
       "    }\n",
       "\n",
       "    .dataframe tbody tr th {\n",
       "        vertical-align: top;\n",
       "    }\n",
       "\n",
       "    .dataframe thead th {\n",
       "        text-align: right;\n",
       "    }\n",
       "</style>\n",
       "<table border=\"1\" class=\"dataframe\">\n",
       "  <thead>\n",
       "    <tr style=\"text-align: right;\">\n",
       "      <th></th>\n",
       "      <th>Harapan_Lama_Sekolah</th>\n",
       "      <th>Pengeluaran_Perkapita</th>\n",
       "      <th>Rerata_Lama_Sekolah</th>\n",
       "      <th>Usia_Harapan_Hidup</th>\n",
       "      <th>IPM</th>\n",
       "    </tr>\n",
       "  </thead>\n",
       "  <tbody>\n",
       "    <tr>\n",
       "      <th>0</th>\n",
       "      <td>14.36</td>\n",
       "      <td>9572</td>\n",
       "      <td>9.37</td>\n",
       "      <td>69.96</td>\n",
       "      <td>High</td>\n",
       "    </tr>\n",
       "    <tr>\n",
       "      <th>1</th>\n",
       "      <td>13.90</td>\n",
       "      <td>7148</td>\n",
       "      <td>9.48</td>\n",
       "      <td>65.28</td>\n",
       "      <td>Normal</td>\n",
       "    </tr>\n",
       "    <tr>\n",
       "      <th>2</th>\n",
       "      <td>14.32</td>\n",
       "      <td>8776</td>\n",
       "      <td>8.68</td>\n",
       "      <td>67.43</td>\n",
       "      <td>Normal</td>\n",
       "    </tr>\n",
       "    <tr>\n",
       "      <th>3</th>\n",
       "      <td>14.60</td>\n",
       "      <td>8180</td>\n",
       "      <td>8.88</td>\n",
       "      <td>64.40</td>\n",
       "      <td>Normal</td>\n",
       "    </tr>\n",
       "    <tr>\n",
       "      <th>4</th>\n",
       "      <td>14.01</td>\n",
       "      <td>8030</td>\n",
       "      <td>9.67</td>\n",
       "      <td>68.22</td>\n",
       "      <td>Normal</td>\n",
       "    </tr>\n",
       "    <tr>\n",
       "      <th>...</th>\n",
       "      <td>...</td>\n",
       "      <td>...</td>\n",
       "      <td>...</td>\n",
       "      <td>...</td>\n",
       "      <td>...</td>\n",
       "    </tr>\n",
       "    <tr>\n",
       "      <th>2191</th>\n",
       "      <td>10.13</td>\n",
       "      <td>5522</td>\n",
       "      <td>4.91</td>\n",
       "      <td>65.32</td>\n",
       "      <td>Low</td>\n",
       "    </tr>\n",
       "    <tr>\n",
       "      <th>2192</th>\n",
       "      <td>7.11</td>\n",
       "      <td>5440</td>\n",
       "      <td>2.51</td>\n",
       "      <td>65.26</td>\n",
       "      <td>Low</td>\n",
       "    </tr>\n",
       "    <tr>\n",
       "      <th>2193</th>\n",
       "      <td>9.79</td>\n",
       "      <td>4761</td>\n",
       "      <td>2.99</td>\n",
       "      <td>64.83</td>\n",
       "      <td>Low</td>\n",
       "    </tr>\n",
       "    <tr>\n",
       "      <th>2194</th>\n",
       "      <td>14.99</td>\n",
       "      <td>14922</td>\n",
       "      <td>11.30</td>\n",
       "      <td>70.15</td>\n",
       "      <td>High</td>\n",
       "    </tr>\n",
       "    <tr>\n",
       "      <th>2195</th>\n",
       "      <td>12.91</td>\n",
       "      <td>11059</td>\n",
       "      <td>8.17</td>\n",
       "      <td>71.20</td>\n",
       "      <td>High</td>\n",
       "    </tr>\n",
       "  </tbody>\n",
       "</table>\n",
       "<p>2196 rows × 5 columns</p>\n",
       "</div>"
      ],
      "text/plain": [
       "      Harapan_Lama_Sekolah  Pengeluaran_Perkapita  Rerata_Lama_Sekolah  \\\n",
       "0                    14.36                   9572                 9.37   \n",
       "1                    13.90                   7148                 9.48   \n",
       "2                    14.32                   8776                 8.68   \n",
       "3                    14.60                   8180                 8.88   \n",
       "4                    14.01                   8030                 9.67   \n",
       "...                    ...                    ...                  ...   \n",
       "2191                 10.13                   5522                 4.91   \n",
       "2192                  7.11                   5440                 2.51   \n",
       "2193                  9.79                   4761                 2.99   \n",
       "2194                 14.99                  14922                11.30   \n",
       "2195                 12.91                  11059                 8.17   \n",
       "\n",
       "      Usia_Harapan_Hidup     IPM  \n",
       "0                  69.96    High  \n",
       "1                  65.28  Normal  \n",
       "2                  67.43  Normal  \n",
       "3                  64.40  Normal  \n",
       "4                  68.22  Normal  \n",
       "...                  ...     ...  \n",
       "2191               65.32     Low  \n",
       "2192               65.26     Low  \n",
       "2193               64.83     Low  \n",
       "2194               70.15    High  \n",
       "2195               71.20    High  \n",
       "\n",
       "[2196 rows x 5 columns]"
      ]
     },
     "execution_count": 2,
     "metadata": {},
     "output_type": "execute_result"
    }
   ],
   "source": [
    "#import dataset\n",
    "df = pd.read_csv('IPM4.csv')\n",
    "df"
   ]
  },
  {
   "cell_type": "code",
   "execution_count": 3,
   "id": "1c1cf1e9",
   "metadata": {},
   "outputs": [
    {
     "name": "stdout",
     "output_type": "stream",
     "text": [
      "<class 'pandas.core.frame.DataFrame'>\n",
      "RangeIndex: 2196 entries, 0 to 2195\n",
      "Data columns (total 5 columns):\n",
      " #   Column                 Non-Null Count  Dtype  \n",
      "---  ------                 --------------  -----  \n",
      " 0   Harapan_Lama_Sekolah   2196 non-null   float64\n",
      " 1   Pengeluaran_Perkapita  2196 non-null   int64  \n",
      " 2   Rerata_Lama_Sekolah    2196 non-null   float64\n",
      " 3   Usia_Harapan_Hidup     2196 non-null   float64\n",
      " 4   IPM                    2196 non-null   object \n",
      "dtypes: float64(3), int64(1), object(1)\n",
      "memory usage: 85.9+ KB\n"
     ]
    }
   ],
   "source": [
    "df.info()"
   ]
  },
  {
   "cell_type": "markdown",
   "id": "1872b3fd",
   "metadata": {},
   "source": [
    "#### Hubungan antara Rerata Lama Sekolah terhadap Indeks Pembangunan Manusia (IPM)"
   ]
  },
  {
   "cell_type": "code",
   "execution_count": 4,
   "id": "d802a429",
   "metadata": {},
   "outputs": [],
   "source": [
    "null_hypothesis1 = \"Penggantian Rerata Lama Sekolah Tidak Berpengaruh Terhadap Indeks Pembangunan Manusia (IPM)\"\n",
    "alternate_hypothesis1 = \"Penggantian Rerata Lama Sekolah Berpengaruh Terhadap Indeks Pembangunan Manusia (IPM)\"\n",
    "acceptance_criteria1 = 0.05"
   ]
  },
  {
   "cell_type": "code",
   "execution_count": 5,
   "id": "56a79c05",
   "metadata": {},
   "outputs": [
    {
     "data": {
      "text/plain": [
       "array([[0, 1, 0, 0],\n",
       "       [0, 1, 0, 0],\n",
       "       [0, 1, 0, 0],\n",
       "       ...,\n",
       "       [0, 0, 0, 1],\n",
       "       [0, 0, 0, 1],\n",
       "       [0, 0, 0, 1]], dtype=int64)"
      ]
     },
     "execution_count": 5,
     "metadata": {},
     "output_type": "execute_result"
    }
   ],
   "source": [
    "observed_values1 = pd.crosstab(df[\"Rerata_Lama_Sekolah\"], df[\"IPM\"]).values\n",
    "\n",
    "observed_values1"
   ]
  },
  {
   "cell_type": "code",
   "execution_count": 6,
   "id": "f5ef9f7a",
   "metadata": {},
   "outputs": [
    {
     "name": "stdout",
     "output_type": "stream",
     "text": [
      "1896\n",
      "4458.706860962215 3.594277903654493e-207\n"
     ]
    }
   ],
   "source": [
    "# calculate expected frequencies & chi square statistic\n",
    "chi2_statistic, p_value, dof, expected_values = chi2_contingency(observed_values, correction = False)\n",
    "print(dof)\n",
    "print(chi2_statistic, p_value)"
   ]
  },
  {
   "cell_type": "code",
   "execution_count": 7,
   "id": "e9457328",
   "metadata": {},
   "outputs": [
    {
     "name": "stdout",
     "output_type": "stream",
     "text": [
      "1998.4130183558734\n"
     ]
    }
   ],
   "source": [
    "# find the critical value for our test\n",
    "critical_value1 = chi2.ppf(1 - acceptance_criteria1, dof)\n",
    "print(critical_value1)"
   ]
  },
  {
   "cell_type": "code",
   "execution_count": 8,
   "id": "d79e2885",
   "metadata": {},
   "outputs": [
    {
     "name": "stdout",
     "output_type": "stream",
     "text": [
      "the null hypothesis should be rejected and accept alternate hypothesis\n",
      "Penggantian Rerata Lama Sekolah Berpengaruh Terhadap Indeks Pembangunan Manusia (IPM)\n"
     ]
    }
   ],
   "source": [
    "if p_value < 0.05:\n",
    "    print('the null hypothesis should be rejected and accept alternate hypothesis')\n",
    "    print(alternate_hypothesis1)\n",
    "else:\n",
    "    print('the alternate hypothesis should be rejected and accept null hypothesis')\n",
    "    print(null_hypothesis1)"
   ]
  },
  {
   "cell_type": "markdown",
   "id": "b2e9d4ee",
   "metadata": {},
   "source": [
    "#### Kesimpulannya:\n",
    "\n",
    "`Penggantian Rerata Lama Sekolah Berpengaruh Terhadap Indeks Pembangunan Manusia (IPM)`"
   ]
  },
  {
   "cell_type": "markdown",
   "id": "7293c000",
   "metadata": {},
   "source": [
    "#### Hubungan antara Harapan Lama Sekolah terhadap Indeks Pembangunan Manusia (IPM)"
   ]
  },
  {
   "cell_type": "code",
   "execution_count": 9,
   "id": "d7afbacf",
   "metadata": {},
   "outputs": [],
   "source": [
    "null_hypothesis2 = \"Penggantian Harapan Lama Sekolah Tidak Berpengaruh Terhadap Indeks Pembangunan Manusia (IPM)\"\n",
    "alternate_hypothesis2 = \"Penggantian Harapan Lama Sekolah Berpengaruh Terhadap Indeks Pembangunan Manusia (IPM)\"\n",
    "acceptance_criteria2 = 0.05"
   ]
  },
  {
   "cell_type": "code",
   "execution_count": 10,
   "id": "961e3435",
   "metadata": {},
   "outputs": [
    {
     "data": {
      "text/plain": [
       "array([[0, 1, 0, 0],\n",
       "       [0, 1, 0, 0],\n",
       "       [0, 1, 0, 0],\n",
       "       ...,\n",
       "       [0, 0, 0, 1],\n",
       "       [0, 0, 0, 1],\n",
       "       [0, 0, 0, 1]], dtype=int64)"
      ]
     },
     "execution_count": 10,
     "metadata": {},
     "output_type": "execute_result"
    }
   ],
   "source": [
    "observed_values2 = pd.crosstab(df[\"Harapan_Lama_Sekolah\"], df[\"IPM\"]).values\n",
    "\n",
    "observed_values2"
   ]
  },
  {
   "cell_type": "code",
   "execution_count": 11,
   "id": "54933be8",
   "metadata": {},
   "outputs": [
    {
     "name": "stdout",
     "output_type": "stream",
     "text": [
      "1494\n",
      "3673.41067268132 4.107110728417021e-184\n"
     ]
    }
   ],
   "source": [
    "# calculate expected frequencies & chi square statistic\n",
    "chi2_statistic, p_value, dof, expected_values = chi2_contingency(observed_values2, correction = False)\n",
    "print(dof)\n",
    "print(chi2_statistic, p_value)"
   ]
  },
  {
   "cell_type": "code",
   "execution_count": 12,
   "id": "f22ee8c6",
   "metadata": {},
   "outputs": [
    {
     "name": "stdout",
     "output_type": "stream",
     "text": [
      "1585.034567980896\n"
     ]
    }
   ],
   "source": [
    "# find the critical value for our test\n",
    "critical_value2 = chi2.ppf(1 - acceptance_criteria2, dof)\n",
    "print(critical_value2)"
   ]
  },
  {
   "cell_type": "code",
   "execution_count": 13,
   "id": "3f2a5431",
   "metadata": {},
   "outputs": [
    {
     "name": "stdout",
     "output_type": "stream",
     "text": [
      "the null hypothesis should be rejected and accept alternate hypothesis\n",
      "Penggantian Harapan Lama Sekolah Berpengaruh Terhadap Indeks Pembangunan Manusia (IPM)\n"
     ]
    }
   ],
   "source": [
    "if p_value < 0.05:\n",
    "    print('the null hypothesis should be rejected and accept alternate hypothesis')\n",
    "    print(alternate_hypothesis2)\n",
    "else:\n",
    "    print('the alternate hypothesis should be rejected and accept null hypothesis')\n",
    "    print(null_hypothesis2)"
   ]
  },
  {
   "cell_type": "markdown",
   "id": "3482b3f1",
   "metadata": {},
   "source": [
    "#### Kesimpulannya:\n",
    "\n",
    "`Penggantian Harapan Lama Sekolah Berpengaruh Terhadap Indeks Pembangunan Manusia (IPM)`"
   ]
  }
 ],
 "metadata": {
  "kernelspec": {
   "display_name": "Python 3",
   "language": "python",
   "name": "python3"
  },
  "language_info": {
   "codemirror_mode": {
    "name": "ipython",
    "version": 3
   },
   "file_extension": ".py",
   "mimetype": "text/x-python",
   "name": "python",
   "nbconvert_exporter": "python",
   "pygments_lexer": "ipython3",
   "version": "3.8.8"
  }
 },
 "nbformat": 4,
 "nbformat_minor": 5
}
